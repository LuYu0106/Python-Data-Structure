{
 "cells": [
  {
   "cell_type": "markdown",
   "metadata": {},
   "source": [
    "LC684"
   ]
  },
  {
   "cell_type": "code",
   "execution_count": 9,
   "metadata": {},
   "outputs": [],
   "source": [
    "class Solution:\n",
    "    def findRedundantConnection(self, edges):\n",
    "        n = len(edges)\n",
    "        uf = UF(n + 1)\n",
    "        for e in edges:\n",
    "            if uf.find(e[0]) != uf.find(e[1]):\n",
    "                uf.union(e[0],e[1])\n",
    "            else:\n",
    "                return e\n",
    "        return [-1,-1]\n",
    "            \n",
    "\n",
    "class UF:\n",
    "    def __init__(self,n):\n",
    "        self.size = n\n",
    "        self.father = [0] * n\n",
    "        for i in range(n):\n",
    "            self.father[i] = i\n",
    "    def find(self, x):\n",
    "        if self.father[x] == x:\n",
    "            return x\n",
    "        self.father[x] = self.find(self.father[x])\n",
    "        return self.father[x]\n",
    "    def union(self, a, b):\n",
    "        fa = self.find(a)\n",
    "        fb = self.find(b)\n",
    "    \n",
    "        self.father[fa] = fb"
   ]
  },
  {
   "cell_type": "code",
   "execution_count": 4,
   "metadata": {},
   "outputs": [
    {
     "name": "stdout",
     "output_type": "stream",
     "text": [
      "0\n"
     ]
    }
   ],
   "source": [
    "s = [[2,2],[3,3]]\n",
    "import bisect\n",
    "i = bisect.bisect(s ,[1])\n",
    "print(i)"
   ]
  },
  {
   "cell_type": "code",
   "execution_count": 13,
   "metadata": {},
   "outputs": [
    {
     "data": {
      "text/plain": [
       "0"
      ]
     },
     "execution_count": 13,
     "metadata": {},
     "output_type": "execute_result"
    }
   ],
   "source": [
    "dp = [[0] * 4 for _ in range(1)]\n",
    "dp[0][2]\n"
   ]
  },
  {
   "cell_type": "markdown",
   "metadata": {},
   "source": [
    "Find longest consecutive 1 in matrix (only 0 and 1 in matrix)\n",
    "不是dfs那种绕弯的path 是横 竖 or 斜对角的直的length里找最长的"
   ]
  },
  {
   "cell_type": "code",
   "execution_count": 35,
   "metadata": {},
   "outputs": [
    {
     "name": "stdout",
     "output_type": "stream",
     "text": [
      "4\n",
      "4\n"
     ]
    }
   ],
   "source": [
    "a = [[1, 1, 1, 0, 0],\n",
    "     [1, 1, 1, 0, 0],\n",
    "     [1, 0, 1, 1, 0],\n",
    "     [0, 1, 0, 1, 1]]\n",
    "\n",
    "b = [[1, 1, 1, 0, 1],\n",
    "     [0, 0, 1, 1, 0],\n",
    "     [1, 0, 1, 0, 0],\n",
    "     [0, 1, 0, 0, 0]]\n",
    "\n",
    "def cal(matrix):\n",
    "    n = len(matrix)\n",
    "    m = len(matrix[0])\n",
    "    dp =  [[0] * m for i in range(n)]\n",
    "    dp2 = [[0] * m for i in range(n)]\n",
    "    dp3 = [[0] * m for i in range(n)]\n",
    "    dp4 = [[0] * m for i in range(n)]\n",
    "    res = 0\n",
    "\n",
    "    for i in range(n):\n",
    "        for j in range(m):\n",
    "            a = matrix[i][j]\n",
    "            if j == 0:\n",
    "                dp[i][j] = a\n",
    "            else:\n",
    "                if a == 1:\n",
    "                    dp[i][j] = dp[i][j-1] + 1\n",
    "                else:\n",
    "                    dp[i][j] = 0\n",
    "            if i == 0:\n",
    "                dp2[i][j] = a\n",
    "            else:\n",
    "                if a == 1:\n",
    "                    dp2[i][j] = dp2[i-1][j] + 1\n",
    "                else:\n",
    "                    dp2[i][j] = 0\n",
    "                    \n",
    "            if i == 0 or j == 0:\n",
    "                dp3[i][j] = a\n",
    "            else:\n",
    "                if a == 1:\n",
    "                    dp3[i][j] = 1 + dp3[i-1][j-1]\n",
    "                else:\n",
    "                    dp3[i][j] = 0\n",
    "            \n",
    "            if i == 0 or j == m - 1:\n",
    "                dp4[i][j] = a\n",
    "            else:\n",
    "                if a == 1:\n",
    "                    dp4[i][j] = 1 + dp4[i - 1][j + 1]\n",
    "                else:\n",
    "                    dp4[i][j] = 0\n",
    "\n",
    "            res = max(res,dp[i][j], dp2[i][j], dp3[i][j], dp4[i][j])\n",
    "\n",
    "    return res\n",
    "\n",
    "print(cal(a))\n",
    "print(cal(b))\n",
    "            "
   ]
  }
 ],
 "metadata": {
  "kernelspec": {
   "display_name": "Python 3",
   "language": "python",
   "name": "python3"
  },
  "language_info": {
   "codemirror_mode": {
    "name": "ipython",
    "version": 3
   },
   "file_extension": ".py",
   "mimetype": "text/x-python",
   "name": "python",
   "nbconvert_exporter": "python",
   "pygments_lexer": "ipython3",
   "version": "3.7.3"
  }
 },
 "nbformat": 4,
 "nbformat_minor": 2
}
