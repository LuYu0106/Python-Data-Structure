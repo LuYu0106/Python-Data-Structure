{
 "cells": [
  {
   "cell_type": "markdown",
   "metadata": {},
   "source": [
    "Use lists as stack "
   ]
  },
  {
   "cell_type": "code",
   "execution_count": 16,
   "metadata": {},
   "outputs": [
    {
     "name": "stdout",
     "output_type": "stream",
     "text": [
      "[1, 2]\n",
      "the pop item is  2\n"
     ]
    }
   ],
   "source": [
    "a = [1]\n",
    "a.append(2)\n",
    "print(a)\n",
    "b =a.pop()\n",
    "print(\"the pop item is \", b)"
   ]
  },
  {
   "cell_type": "markdown",
   "metadata": {},
   "source": [
    "Use list as queue"
   ]
  },
  {
   "cell_type": "code",
   "execution_count": 1,
   "metadata": {},
   "outputs": [
    {
     "name": "stdout",
     "output_type": "stream",
     "text": [
      "deque([3, 4, 5, 7]) 1 3\n"
     ]
    }
   ],
   "source": [
    "import collections\n",
    "a = [1, 3, 4, 5]\n",
    "queue = collections.deque(a)\n",
    "queue.append(7)\n",
    "last = queue.popleft()\n",
    "top = queue[0]\n",
    "print(queue, last, top)"
   ]
  },
  {
   "cell_type": "markdown",
   "metadata": {},
   "source": [
    "Add a tuple in a deque "
   ]
  },
  {
   "cell_type": "code",
   "execution_count": 48,
   "metadata": {},
   "outputs": [
    {
     "data": {
      "text/plain": [
       "deque([1, 4, (1, 2), (3, 1)])"
      ]
     },
     "execution_count": 48,
     "metadata": {},
     "output_type": "execute_result"
    }
   ],
   "source": [
    "import collections\n",
    "q = collections.deque((1,4)) # can not do this way, it will separate this two items\n",
    "q.append((1,2))\n",
    "q.append((3,1))\n",
    "q"
   ]
  },
  {
   "cell_type": "markdown",
   "metadata": {},
   "source": [
    "heapq"
   ]
  },
  {
   "cell_type": "code",
   "execution_count": 60,
   "metadata": {},
   "outputs": [
    {
     "name": "stdout",
     "output_type": "stream",
     "text": [
      "[1, 2, 8, 10]\n",
      "[1, 2, 8, 10, 4]\n",
      "1\n"
     ]
    }
   ],
   "source": [
    "a = [1, 10, 8, 2]\n",
    "import heapq\n",
    "heapq.heapify(a)\n",
    "print(a)\n",
    "heapq.heappush(a,4)\n",
    "print(a)\n",
    "x = heapq.heappop(a)\n",
    "print(x)"
   ]
  },
  {
   "cell_type": "markdown",
   "metadata": {},
   "source": [
    "heapq, n largest and n smallest"
   ]
  },
  {
   "cell_type": "code",
   "execution_count": 4,
   "metadata": {},
   "outputs": [
    {
     "name": "stdout",
     "output_type": "stream",
     "text": [
      "[6, 5, 3] [0, 1]\n"
     ]
    }
   ],
   "source": [
    "heap = [3,5,6,1,2,0]\n",
    "import heapq\n",
    "heapq.heapify(heap)\n",
    "large = heapq.nlargest(3, heap)\n",
    "small = heapq.nsmallest(2, heap)\n",
    "print(large, small)"
   ]
  },
  {
   "cell_type": "code",
   "execution_count": 9,
   "metadata": {},
   "outputs": [
    {
     "name": "stdout",
     "output_type": "stream",
     "text": [
      "[]\n",
      "[1]\n",
      "[1, 2]\n"
     ]
    },
    {
     "data": {
      "text/plain": [
       "2"
      ]
     },
     "execution_count": 9,
     "metadata": {},
     "output_type": "execute_result"
    }
   ],
   "source": [
    "heap = []\n",
    "import heapq\n",
    "print(heap)\n",
    "heapq.heappush(heap, 1)\n",
    "print(heap)\n",
    "heapq.heappush(heap, 2)\n",
    "print(heap)\n",
    "heapq.heappop(heap)\n",
    "heap[0]\n"
   ]
  },
  {
   "cell_type": "markdown",
   "metadata": {},
   "source": [
    "The input could be a tuple "
   ]
  },
  {
   "cell_type": "code",
   "execution_count": 1,
   "metadata": {},
   "outputs": [
    {
     "name": "stdout",
     "output_type": "stream",
     "text": [
      "(5, 'review')\n"
     ]
    }
   ],
   "source": [
    "a = [(5, \"review\"), (7, \"pratice\"),(1, \"writting homework\")]\n",
    "import heapq\n",
    "heapq.heapify(a)\n",
    "print(heapq.heappop(a))"
   ]
  },
  {
   "cell_type": "code",
   "execution_count": 4,
   "metadata": {},
   "outputs": [
    {
     "name": "stdout",
     "output_type": "stream",
     "text": [
      "(1, 'writting homework')\n"
     ]
    }
   ],
   "source": [
    "a = []\n",
    "import heapq\n",
    "heapq.heappush(a,(7, \"pratice\"))\n",
    "heapq.heappush(a,(1, \"writting homework\"))\n",
    "print(heapq.heappop(a))\n"
   ]
  },
  {
   "cell_type": "markdown",
   "metadata": {},
   "source": [
    "New class and comparator implementation\n",
    "Sort based on grade and then name "
   ]
  },
  {
   "cell_type": "code",
   "execution_count": 82,
   "metadata": {},
   "outputs": [
    {
     "data": {
      "text/plain": [
       "['Jemery', 'Peter', 'Lu', 'James']"
      ]
     },
     "execution_count": 82,
     "metadata": {},
     "output_type": "execute_result"
    }
   ],
   "source": [
    "d = [(\"Peter\", 12, 'A'), (\"Lu\", 10, 'B'), (\"James\", 7, 'C'), (\"Jemery\", 8, 'A')]\n",
    "class Student:\n",
    "    def __init__(self, name ='', age = 0, grade = ''):\n",
    "        self.name = name\n",
    "        self.age = age\n",
    "        self.grade = grade\n",
    "\n",
    "    def __lt__(self, other):\n",
    "        if self.grade == other.grade:\n",
    "            return self.name <= other.name\n",
    "        else:\n",
    "            return self.grade < other.grade\n",
    "\n",
    "data = [Student(i, j, k) for i,j,k in d]\n",
    "heapq.heapify(data)\n",
    "[heapq.heappop(data).name for _ in range(len(d))]\n",
    "\n",
    "# we can also use a sorted list for this kind of problems\n"
   ]
  },
  {
   "cell_type": "code",
   "execution_count": null,
   "metadata": {},
   "outputs": [],
   "source": []
  }
 ],
 "metadata": {
  "kernelspec": {
   "display_name": "Python 3",
   "language": "python",
   "name": "python3"
  },
  "language_info": {
   "codemirror_mode": {
    "name": "ipython",
    "version": 3
   },
   "file_extension": ".py",
   "mimetype": "text/x-python",
   "name": "python",
   "nbconvert_exporter": "python",
   "pygments_lexer": "ipython3",
   "version": "3.7.3"
  }
 },
 "nbformat": 4,
 "nbformat_minor": 2
}
