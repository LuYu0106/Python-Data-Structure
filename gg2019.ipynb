{
 "cells": [
  {
   "cell_type": "markdown",
   "metadata": {},
   "source": [
    "LC684"
   ]
  },
  {
   "cell_type": "code",
   "execution_count": null,
   "metadata": {},
   "outputs": [],
   "source": [
    "class Solution:\n",
    "    def findRedundantConnection(self, edges: List[List[int]]) -> List[int]:\n",
    "        n = len(edges)\n",
    "        uf = UF(n + 1)\n",
    "        for e in edges:\n",
    "            if uf.find(e[0]) != uf.find(e[1]):\n",
    "                uf.union(e[0],e[1])\n",
    "            else:\n",
    "                return e\n",
    "        return [-1,-1]\n",
    "            \n",
    "\n",
    "class UF:\n",
    "    def __init__(self,n):\n",
    "        self.size = n\n",
    "        self.father = [0] * n\n",
    "        for i in range(n):\n",
    "            self.father[i] = i\n",
    "    def find(self, x):\n",
    "        if self.father[x] == x:\n",
    "            return x\n",
    "        self.father[x] = self.find(self.father[x])\n",
    "        return self.father[x]\n",
    "    def union(self, a, b):\n",
    "        fa = self.find(a)\n",
    "        fb = self.find(b)\n",
    "    \n",
    "        self.father[fa] = fb"
   ]
  },
  {
   "cell_type": "code",
   "execution_count": null,
   "metadata": {},
   "outputs": [],
   "source": []
  },
  {
   "cell_type": "code",
   "execution_count": null,
   "metadata": {},
   "outputs": [],
   "source": []
  }
 ],
 "metadata": {
  "kernelspec": {
   "display_name": "Python 3",
   "language": "python",
   "name": "python3"
  },
  "language_info": {
   "codemirror_mode": {
    "name": "ipython",
    "version": 3
   },
   "file_extension": ".py",
   "mimetype": "text/x-python",
   "name": "python",
   "nbconvert_exporter": "python",
   "pygments_lexer": "ipython3",
   "version": "3.7.3"
  }
 },
 "nbformat": 4,
 "nbformat_minor": 2
}
