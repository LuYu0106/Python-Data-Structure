{
 "cells": [
  {
   "cell_type": "code",
   "execution_count": 15,
   "metadata": {},
   "outputs": [
    {
     "name": "stdout",
     "output_type": "stream",
     "text": [
      "6 2 5 1 2 5 4 9 8\n"
     ]
    }
   ],
   "source": [
    "class Q:\n",
    "    def __init__(self):\n",
    "        self.head = 0\n",
    "        self.tail = 0\n",
    "        self.size = 5\n",
    "        self.headlist = []\n",
    "        self.taillist = self.headlist\n",
    "        self.count = 0\n",
    "    def inQ(self, x):\n",
    "        self.count += 1 \n",
    "        if self.tail == self.size - 1:\n",
    "            self.taillist.append([x])\n",
    "            self.taillist = self.taillist[-1]\n",
    "            self.tail = 1\n",
    "        else:\n",
    "            self.taillist.append(x)\n",
    "            self.tail += 1\n",
    "    def deQ(self):\n",
    "        if self.count == 0:\n",
    "            return -1\n",
    "        num = self.headlist[self.head]\n",
    "        self.count -= 1\n",
    "        self.head += 1\n",
    "        if self.head == self.size - 1:\n",
    "            self.headlist = self.headlist[self.head]\n",
    "            self.head = 0\n",
    "        return num\n",
    "\n",
    "q = Q()\n",
    "q.inQ(1)\n",
    "q.inQ(2)\n",
    "q.inQ(5)\n",
    "print(q.deQ(), q.deQ())\n",
    "\n",
    "            \n",
    "            "
   ]
  },
  {
   "cell_type": "code",
   "execution_count": 17,
   "metadata": {},
   "outputs": [
    {
     "data": {
      "text/plain": [
       "[2, 3]"
      ]
     },
     "execution_count": 17,
     "metadata": {},
     "output_type": "execute_result"
    }
   ],
   "source": [
    "l1 = [1,2,4,[2,3]]\n",
    "temp = l1[3]\n",
    "l1.clear()\n",
    "l1 = temp\n",
    "l1"
   ]
  },
  {
   "cell_type": "code",
   "execution_count": 80,
   "metadata": {},
   "outputs": [
    {
     "name": "stdout",
     "output_type": "stream",
     "text": [
      "11\n"
     ]
    }
   ],
   "source": [
    "class MaxProfit:\n",
    "    def calculate(self, s):\n",
    "        s.sort()\n",
    "        dp = [0]*25\n",
    "        res = 0\n",
    "        for i,e in enumerate(s):\n",
    "            for j in range(i):\n",
    "                dp[s[i][1]] = s[i][2]\n",
    "                if s[i][0] >= s[j][1]:\n",
    "                    dp[s[i][1]] = max(dp[s[i][1]], dp[s[j][1]] + s[i][2])\n",
    "                    res = max(res, dp[s[i][1]])\n",
    "        return res\n",
    "t = MaxProfit()\n",
    "s = [[0, 3, 1], [0, 5, 5], [6, 18, 2],[6,24,5],[4,7,11]]\n",
    "res = t.calculate(s)\n",
    "            \n",
    "print(res)\n",
    "\n",
    "            "
   ]
  },
  {
   "cell_type": "code",
   "execution_count": 30,
   "metadata": {},
   "outputs": [
    {
     "name": "stdout",
     "output_type": "stream",
     "text": [
      "What must be    \n",
      "acknowledgment  \n",
      "shall be        \n"
     ]
    }
   ],
   "source": [
    "words = [\"What\",\"must\",\"be\",\"acknowledgment\",\"shall\",\"be\"]\n",
    "maxWidth = 16\n",
    "\n",
    "i, j, curlength, res = 0, 0, 0, []\n",
    "while j < len(words):\n",
    "    if curlength + len(words[j]) <= maxWidth:\n",
    "       \n",
    "        curlength += (len(words[j]) + 1)\n",
    "        j += 1\n",
    "    else:\n",
    "        if i == j - 1:\n",
    "            res.append(words[i].ljust(maxWidth))\n",
    "        else:\n",
    "            res.append((' '.join(words[i:j])).ljust(maxWidth))\n",
    "        i = j\n",
    "        curlength = 0\n",
    "res.append((' '.join(words[i:j])).ljust(maxWidth))\n",
    "for r in res:\n",
    "    print(r)"
   ]
  },
  {
   "cell_type": "code",
   "execution_count": 35,
   "metadata": {},
   "outputs": [
    {
     "data": {
      "text/plain": [
       "'031055618262454711'"
      ]
     },
     "execution_count": 35,
     "metadata": {},
     "output_type": "execute_result"
    }
   ],
   "source": [
    "s = [[0, 3, 1], [0, 5, 5], [6, 18, 2],[6,24,5],[4,7,11]]\n",
    "res = \"\".join([str(j) for i in s for j in i])\n",
    "res"
   ]
  },
  {
   "cell_type": "code",
   "execution_count": 42,
   "metadata": {},
   "outputs": [
    {
     "name": "stdout",
     "output_type": "stream",
     "text": [
      "David and Sam want to go to San Fan\n"
     ]
    }
   ],
   "source": [
    "s = \"{Sam} and Sam want to go to {city}\"\n",
    "sa = s.split(\" \")\n",
    "store = {\"Sam\":\"David\", \"city\" : \"San Fan\"}\n",
    "for index, i in enumerate(sa):\n",
    "    if i.find('{') != 1 and i.find(\"}\") != 1:\n",
    "        pre = i.find('{')\n",
    "        post = i.find('}')\n",
    "        if i[pre+1: post] in store:\n",
    "            sa[index] = i[:pre] +store[(i[pre+1: post])]+ i[post + 1:]\n",
    "res = \" \".join(sa)\n",
    "print(res)\n",
    "\n",
    "    "
   ]
  },
  {
   "cell_type": "code",
   "execution_count": 76,
   "metadata": {},
   "outputs": [
    {
     "name": "stdout",
     "output_type": "stream",
     "text": [
      "defaultdict(<class 'list'>, {'A': [('B', 2), ('C', 3)], 'B': [('D', 5), ('E', 6)], 'C': [('E', 4), ('F', 4)], 'D': [('H', 7)], 'E': [('H', 6)], 'H': [('I', 1), ('J', 2)], 'F': [('J', 3)]})\n",
      "B 2\n",
      "C 3\n",
      "D 5\n",
      "E 6\n",
      "E 4\n",
      "F 4\n",
      "H 7\n",
      "H 6\n",
      "J 3\n",
      "I 1\n",
      "J 2\n",
      "['I', 'H', 'D', 'B', 'A']\n"
     ]
    }
   ],
   "source": [
    "import collections\n",
    "nodes = {\"A\": 5, \"B\":7, \"C\":6, \"D\":2, \"E\":1, \"F\":7, \"H\":7, \"I\":3, \"J\":2}\n",
    "edges = [ \"A->B,2\",\n",
    "                \"A->C,3\",\n",
    "                \"B->D,5\",\n",
    "                \"B->E,6\",\n",
    "                \"C->E,4\",\n",
    "                \"C->F,4\",\n",
    "                \"D->H,7\",\n",
    "                \"E->H,6\",\n",
    "                \"H->I,1\",\n",
    "                \"H->J,2\",\n",
    "                \"F->J,3\"]\n",
    "graph = collections.defaultdict(list)\n",
    "indegree = {}\n",
    "maxnodes = {}\n",
    "\n",
    "\n",
    "for node in nodes:\n",
    "    indegree[node] = 0 \n",
    "    maxnodes[node] = 0\n",
    "    \n",
    "for e in edges:\n",
    "    e = e.split(\",\")\n",
    "    sd = e[0]\n",
    "    price = int(e[1])\n",
    "    sd = sd.split(\"->\")\n",
    "    src = sd[0]\n",
    "    des = sd[1]\n",
    "    indegree[des] = indegree.get(des,0) + 1\n",
    "    graph[src].append((des, price))\n",
    "print(graph)\n",
    "\n",
    "q = collections.deque()\n",
    "for node in nodes:\n",
    "    if indegree[node] == 0:\n",
    "        q.append(node)\n",
    "        maxnodes[node] = nodes[node]\n",
    "        father = {node:None}\n",
    "\n",
    "while q:\n",
    "    cur = q.popleft()\n",
    "    if cur in graph:\n",
    "        for nextnode, pathprice in graph[cur]:\n",
    "            print(nextnode,pathprice)\n",
    "            indegree[nextnode] -= 1\n",
    "            score = pathprice  \n",
    "            score += nodes[nextnode] * 2 \n",
    "            score += maxnodes[cur]\n",
    "            if score > maxnodes[nextnode]:\n",
    "                maxnodes[nextnode] = score\n",
    "                father[nextnode] = cur\n",
    "            if indegree[nextnode] == 0:\n",
    "                q.append(nextnode)\n",
    "\n",
    "max_score = 0\n",
    "max_node = \"\"\n",
    "for k, v in maxnodes.items():\n",
    "    if maxnodes[k] > max_score:\n",
    "        max_score = v\n",
    "        max_node = k\n",
    "\n",
    "path = []\n",
    "while max_node:\n",
    "    path.append(max_node)\n",
    "    max_node = father[max_node]\n",
    "\n",
    "print(path)\n",
    "\n",
    "            \n",
    "    \n",
    "    "
   ]
  },
  {
   "cell_type": "code",
   "execution_count": 60,
   "metadata": {},
   "outputs": [
    {
     "name": "stdout",
     "output_type": "stream",
     "text": [
      "a b\n"
     ]
    }
   ],
   "source": [
    "s = \"a->b\"\n",
    "sa =s.split(\"->\")\n",
    "print(sa[0],sa[1])"
   ]
  },
  {
   "cell_type": "code",
   "execution_count": 7,
   "metadata": {},
   "outputs": [
    {
     "name": "stdout",
     "output_type": "stream",
     "text": [
      "North America\n"
     ]
    }
   ],
   "source": [
    "\n",
    "class Node:\n",
    "    def __init__(self, name):\n",
    "        self.name = name\n",
    "        self.children =[]\n",
    "\n",
    "class Solution:\n",
    "    def findSmallRegion(self,s, a, b):\n",
    "        store = {}\n",
    "        for maps in s:\n",
    "            parent = None \n",
    "            if maps[0] not in store:\n",
    "                parent = Node(maps[0])\n",
    "                store[maps[0]] = parent\n",
    "            else:\n",
    "                parent = store[maps[0]]\n",
    "            for c in maps[1:]:\n",
    "                child = Node(c)\n",
    "                parent.children.append(child)\n",
    "                store[c] = child\n",
    "\n",
    "        root = store[\"Earth\"]\n",
    "        res = self.findcommon(root, a, b, store)\n",
    "        return res\n",
    "    \n",
    "    def findcommon(self, node, a, b, store):\n",
    "        if node is None:\n",
    "            return None\n",
    "        if node.name == a or node.name == b:\n",
    "            return node\n",
    "    \n",
    "        fa = None\n",
    "        fb = None\n",
    "        for c in node.children:\n",
    "            cres = self.findcommon(c, a, b, store)\n",
    "            if cres and cres.name != a and cres.name != b:\n",
    "                return cres\n",
    "            if cres and cres.name == a:\n",
    "                fa = cres\n",
    "            if cres and cres.name == b:\n",
    "                fb = cres\n",
    "        if fa is None and fb is None:\n",
    "            return None \n",
    "        if fa is not None and fb is not None:\n",
    "            return node\n",
    "        if fb is None:\n",
    "            return fa\n",
    "        if fa is None:\n",
    "            return fb\n",
    "        \n",
    "        \n",
    "t = Solution()\n",
    "s = [[\"Earth\", \"North America\",\"South America\"],\n",
    "     [\"North America\", \"Mexico\", \"United States\", \"Canada\"],\n",
    " [\"South America\", \"Argentina\", \"Brazil\", \"Chile\"],\n",
    "[\"Mexico\", \"Oaxaca\", \"Puebla\"],\n",
    " [\"United States\", \"California\", \"Wyoming\", \"New York\"],\n",
    "[\"Canada\", \"Ontario\", \"Quebec\", \"Saskatchewan\"]]\n",
    "res = t.findSmallRegion(s,\"Oaxaca\",\"New York\" )\n",
    "print(res.name)\n",
    "        "
   ]
  },
  {
   "cell_type": "code",
   "execution_count": null,
   "metadata": {},
   "outputs": [],
   "source": [
    "node_lca = None\n",
    "node_has_a = node_has_b = False\n",
    "for c in node.children:\n",
    "    lca, has_a, has_b = self.findcommon(c, a, b, store)\n",
    "    if has_a and has_b:\n",
    "        return lca, True, True\n",
    "    if has_a:\n",
    "        node_has_a = True\n",
    "        if node_has_b:\n",
    "            return node, True, True\n",
    "        node_lca = lca\n",
    "    if has_b:\n",
    "        node_has_b = True\n",
    "        if node_has_a:\n",
    "            return node, True, True\n",
    "        node_lca = lca\n",
    "        \n",
    "if node_has_a and node == b:\n",
    "    return node, True, True\n",
    "if node_has_b and node == a:\n",
    "    return node, True, True\n",
    "        \n",
    "return node_lca, node_has_a, node_has_b"
   ]
  },
  {
   "cell_type": "code",
   "execution_count": null,
   "metadata": {},
   "outputs": [],
   "source": []
  }
 ],
 "metadata": {
  "kernelspec": {
   "display_name": "Python 3",
   "language": "python",
   "name": "python3"
  },
  "language_info": {
   "codemirror_mode": {
    "name": "ipython",
    "version": 3
   },
   "file_extension": ".py",
   "mimetype": "text/x-python",
   "name": "python",
   "nbconvert_exporter": "python",
   "pygments_lexer": "ipython3",
   "version": "3.7.3"
  }
 },
 "nbformat": 4,
 "nbformat_minor": 2
}
